{
 "cells": [
  {
   "cell_type": "code",
   "execution_count": null,
   "id": "4ed9a09e",
   "metadata": {},
   "outputs": [],
   "source": [
    "import pandas as pd\n",
    "import matplotlib.pyplot as plt\n",
    "\n",
    "# Load the dataset\n",
    "titanic_df = pd.read_csv(\"titanic.csv\")\n",
    "\n",
    "# Data cleaning\n",
    "titanic_df.drop(['PassengerId', 'Ticket', 'Cabin'], axis=1, inplace=True) # remove unnecessary columns\n",
    "titanic_df.dropna(inplace=True) # remove rows with missing values\n",
    "\n",
    "# Data exploration\n",
    "print(titanic_df.describe()) # display summary statistics\n",
    "print(titanic_df.head()) # display first few rows\n",
    "print(titanic_df.corr()) # calculate correlation matrix\n",
    "\n",
    "# Data visualization\n",
    "titanic_df['Age'].hist(bins=20)\n",
    "plt.title(\"Distribution of Age\")\n",
    "plt.xlabel(\"Age\")\n",
    "plt.ylabel(\"Count\")\n",
    "plt.show()\n",
    "\n",
    "titanic_df.groupby(['Sex', 'Survived'])['Survived'].count().unstack().plot(kind='bar')\n",
    "plt.title(\"Survival by Gender\")\n",
    "plt.xlabel(\"Gender\")\n",
    "plt.ylabel(\"Count\")\n",
    "plt.show()\n",
    "\n",
    "# Data analysis\n",
    "titanic_df.groupby('Pclass')['Survived'].mean()\n",
    "\n",
    "# Data interpretation\n",
    "# Based on the analysis, we can conclude that gender and passenger class were significant factors in determining survival on the Titanic.\n"
   ]
  }
 ],
 "metadata": {
  "kernelspec": {
   "display_name": "Python 3 (ipykernel)",
   "language": "python",
   "name": "python3"
  },
  "language_info": {
   "codemirror_mode": {
    "name": "ipython",
    "version": 3
   },
   "file_extension": ".py",
   "mimetype": "text/x-python",
   "name": "python",
   "nbconvert_exporter": "python",
   "pygments_lexer": "ipython3",
   "version": "3.9.7"
  }
 },
 "nbformat": 4,
 "nbformat_minor": 5
}
